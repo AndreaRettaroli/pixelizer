{
  "nbformat": 4,
  "nbformat_minor": 0,
  "metadata": {
    "colab": {
      "name": "Copia di Untitled0.ipynb",
      "provenance": [],
      "collapsed_sections": [],
      "authorship_tag": "ABX9TyNnK1hOboDmmUcjCx9dCv0f",
      "include_colab_link": true
    },
    "kernelspec": {
      "name": "python3",
      "display_name": "Python 3"
    },
    "language_info": {
      "name": "python"
    }
  },
  "cells": [
    {
      "cell_type": "markdown",
      "metadata": {
        "id": "view-in-github",
        "colab_type": "text"
      },
      "source": [
        "<a href=\"https://colab.research.google.com/github/AndreaRettaroli/pixelizer/blob/master/pixelizer.ipynb\" target=\"_parent\"><img src=\"https://colab.research.google.com/assets/colab-badge.svg\" alt=\"Open In Colab\"/></a>"
      ]
    },
    {
      "cell_type": "code",
      "source": [
        "#!/usr/local/bin/python3\n",
        "from PIL import Image\n",
        "\n",
        "# Open Paddington\n",
        "img = Image.open(\"./esempio.png\")\n",
        "\n",
        "# Resize smoothly down to 128x128 pixels or 64x64 or 32x32 or 16x16\n",
        "imgSmall = img.resize((128,128),resample=Image.BILINEAR)\n",
        "\n",
        "\n",
        "# Scale back up using NEAREST to original size\n",
        "result = imgSmall.resize(img.size,Image.NEAREST)\n",
        "\n",
        "\n",
        "# Save\n",
        "result.save('esmpio.png')"
      ],
      "metadata": {
        "id": "9trT1s3mErtg"
      },
      "execution_count": 14,
      "outputs": []
    }
  ]
}